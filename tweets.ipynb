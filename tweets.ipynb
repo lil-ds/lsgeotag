{
  "cells": [
    {
      "cell_type": "code",
      "execution_count": 1,
      "id": "comic-detroit",
      "metadata": {
        "id": "comic-detroit"
      },
      "outputs": [],
      "source": [
        "# created on Dec 24, 2020\n",
        "# modified on April 14, 2021\n",
        "# modified on Jan 2, 2021\n",
        "# @author:          Bo Zhao\n",
        "# @email:           zhaobo@uw.edu\n",
        "# @website:         https://hgis.uw.edu\n",
        "# @organization:    Department of Geography, University of Washington, Seattle\n",
        "# @description:     Search historical tweets using locational information"
      ]
    },
    {
      "cell_type": "code",
      "execution_count": 2,
      "id": "2hob_1iXn14t",
      "metadata": {
        "id": "2hob_1iXn14t"
      },
      "outputs": [],
      "source": [
        "import tweepy\n",
        "import pandas as pd"
      ]
    },
    {
      "cell_type": "code",
      "execution_count": 3,
      "id": "WHeExfSloBhI",
      "metadata": {
        "id": "WHeExfSloBhI"
      },
      "outputs": [],
      "source": [
        "# the file path where to store the output csv on google drive\n",
        "output_file = '/gdrive/My Drive/twsearch-result.csv'\n",
        "\n",
        "# Apply for your own Twitter API keys at https://developer.twitter.com/en/apply-for-access\n",
        "consumer_key = \"\"\n",
        "consumer_secret = \"\"\n",
        "access_token = \"\"\n",
        "access_token_secret = \"\"\n",
        "\n",
        "auth = tweepy.OAuthHandler(consumer_key, consumer_secret)\n",
        "auth.set_access_token(access_token, access_token_secret)\n",
        "api = tweepy.API(auth, wait_on_rate_limit=True)"
      ]
    },
    {
      "cell_type": "code",
      "execution_count": 4,
      "id": "passing-pulse",
      "metadata": {
        "colab": {
          "base_uri": "https://localhost:8080/"
        },
        "id": "passing-pulse",
        "outputId": "b6dd2530-ca0c-44ac-ea24-8cc04db7b7ec"
      },
      "outputs": [
        {
          "name": "stdout",
          "output_type": "stream",
          "text": [
            "{'username': 'Data Science Dojo', 'userid': 1318985240, 'profile_location': 'Seattle, WA', 'created_at': '2013-03-31 19:25:57', 'text': 'Discover your path to a career in data science! Join our free information session on January 26th at 9 am (PT) to l… https://t.co/O5yvwcHEDZ', 'retweet_count': 1, 'source': 'HubSpot', 'coordinates': None}\n",
            "{'username': 'TMJ - SEA IT Jobs', 'userid': 21676969, 'profile_location': 'USA-WA-Seattle Metro', 'created_at': '2009-02-23 18:26:40', 'text': \"Want to work at Starbucks? We're hiring in #Seattle, WA! Click for details: https://t.co/uiLsnwAKl4 #techjobs\", 'retweet_count': 0, 'source': 'CareerArc 2.0', 'coordinates': {'type': 'Point', 'coordinates': [-122.3320708, 47.6062095]}}\n",
            "{'username': 'Dr. Kim Martini 🏳️\\u200d🌈', 'userid': 48494794, 'profile_location': 'Seattle, WA', 'created_at': '2009-06-18 21:22:10', 'text': 'How about CTDs on Cormorants? They take some pretty great coastal data. \\n\\nhttps://t.co/yN4fbbShYu… https://t.co/H7FmqcBUlG', 'retweet_count': 1, 'source': 'Twitter Web App', 'coordinates': None}\n",
            "{'username': 'Dr. Kim Martini 🏳️\\u200d🌈', 'userid': 48494794, 'profile_location': 'Seattle, WA', 'created_at': '2009-06-18 21:22:10', 'text': 'How about CTDs on Cormorants? They actually take some pretty great coastal data.\\n\\nhttps://t.co/yN4fbbShYu https://t.co/25R3vhztwY', 'retweet_count': 0, 'source': 'Twitter Web App', 'coordinates': None}\n",
            "{'username': 'Data Science Dojo', 'userid': 1318985240, 'profile_location': 'Seattle, WA', 'created_at': '2013-03-31 19:25:57', 'text': '💡 Myths of data science: https://t.co/Cj6THKOSg3\\n\\n#DataScience #Myths https://t.co/ztw7syeDPq', 'retweet_count': 11, 'source': 'HubSpot', 'coordinates': None}\n",
            "{'username': 'Patrick', 'userid': 906709772, 'profile_location': 'Seattle, WA', 'created_at': '2012-10-26 20:17:27', 'text': '@cheomitII @wil_da_beast630 @ez_yeats Yes, you can, and it is done often. And no, you don\\'t need \"report of subject… https://t.co/cQgH6bfCKz', 'retweet_count': 0, 'source': 'Twitter Web App', 'coordinates': None}\n",
            "{'username': 'Sumit Mukherjee', 'userid': 350196627, 'profile_location': 'Seattle, WA', 'created_at': '2011-08-07 10:58:26', 'text': \"It'll be nice if someone can point me to industry ML/data science researchers who tweet about their experiences in… https://t.co/Kno1cR78In\", 'retweet_count': 0, 'source': 'Twitter for Android', 'coordinates': None}\n",
            "{'username': 'Sumit Mukherjee', 'userid': 350196627, 'profile_location': 'Seattle, WA', 'created_at': '2011-08-07 10:58:26', 'text': 'A big difference between the two is that I have only ever been tasked with developing research products and researc… https://t.co/lzLUoDJVh1', 'retweet_count': 0, 'source': 'Twitter for Android', 'coordinates': None}\n",
            "{'username': 'Sumit Mukherjee', 'userid': 350196627, 'profile_location': 'Seattle, WA', 'created_at': '2011-08-07 10:58:26', 'text': 'And I have now been in industry for ~5 years. Perhaps a big reason is that we need to demarcate between ML/data sci… https://t.co/oTLaPFW8Kx', 'retweet_count': 0, 'source': 'Twitter for Android', 'coordinates': None}\n",
            "{'username': 'Sumit Mukherjee', 'userid': 350196627, 'profile_location': 'Seattle, WA', 'created_at': '2011-08-07 10:58:26', 'text': 'I have lately followed a lot of industry data scientists who tweet about ... industry data science. In following th… https://t.co/kFpoGv7rGH', 'retweet_count': 1, 'source': 'Twitter for Android', 'coordinates': None}\n",
            "{'username': 'Bob E. Hayes', 'userid': 20748873, 'profile_location': 'Seattle, WA', 'created_at': '2009-02-13 04:55:04', 'text': 'The Importance of Experiment Design in Data Science - KDnuggets https://t.co/sXquRP519T', 'retweet_count': 0, 'source': 'Buffer', 'coordinates': None}\n",
            "{'username': 'Annika Sparkles', 'userid': 1025777589216927749, 'profile_location': 'Seattle, WA', 'created_at': '2018-08-04 16:16:50', 'text': 'there will never be data science in business computing. You are data business. You are not sciencing, stop saying y… https://t.co/g4cPntcbJf', 'retweet_count': 0, 'source': 'Twitter for iPhone', 'coordinates': None}\n",
            "{'username': 'Shital Shah', 'userid': 7637292, 'profile_location': 'Redmond, WA', 'created_at': '2007-07-22 09:53:32', 'text': 'During last couple of years, I have seen a massive rise in people studying “Computational XYZ”, where XYZ is everyt… https://t.co/MIslTcAmfZ', 'retweet_count': 0, 'source': 'Twitter for iPhone', 'coordinates': None}\n",
            "{'username': 'Academy Chinou Gea', 'userid': 1603466227602448385, 'profile_location': 'Seattle, WA', 'created_at': '2022-12-15 19:05:25', 'text': 'Google Free Online Courses taking in 2023. Happy Learning and happy Chinese lunar spring festival.💥More updates, fo… https://t.co/CzICGeDAJW', 'retweet_count': 0, 'source': 'Twitter for iPhone', 'coordinates': None}\n",
            "{'username': 'Infeather Labs', 'userid': 1525620122802499584, 'profile_location': 'Seattle, WA, USA', 'created_at': '2022-05-14 23:33:18', 'text': 'What is Snowball Sampling?\\n\\nSome times it is not easy to identify individuals who belong to the targeted population… https://t.co/oexVYbAtSh', 'retweet_count': 0, 'source': 'Infeather Labs', 'coordinates': None}\n",
            "{'username': 'Tom Carpenter', 'userid': 452355286, 'profile_location': 'Seattle, WA', 'created_at': '2012-01-01 18:59:52', 'text': '@rogue_hci @rappa753 Reproducible analysis? Ability to script the data and procedures? Open science?', 'retweet_count': 0, 'source': 'Twitter for iPhone', 'coordinates': None}\n",
            "{'username': 'Data Science Dojo', 'userid': 1318985240, 'profile_location': 'Seattle, WA', 'created_at': '2013-03-31 19:25:57', 'text': '📜 In this blog, we will share the list of leading data science conferences across the world to be held in 2023. Thi… https://t.co/oUwmdkrP1n', 'retweet_count': 39, 'source': 'HubSpot', 'coordinates': None}\n",
            "{'username': 'Vesper Aegis', 'userid': 1464775059034288128, 'profile_location': 'Seattle WA', 'created_at': '2021-11-28 01:56:20', 'text': '@davestewart3 @157239n @ElonDefender @CommunityNotes 1) Latest data in terms of Lineages A/B evolving simultaneousl… https://t.co/IIGr6JgEF1', 'retweet_count': 0, 'source': 'Twitter Web App', 'coordinates': None}\n",
            "{'username': 'Sangy', 'userid': 1424923259259088902, 'profile_location': 'Seattle, WA', 'created_at': '2021-08-10 02:39:25', 'text': '@JustineCloudDev Power move to quit..\\nPlan to build a suite of AI apps +start writing online (data science/AI relat… https://t.co/8OyVKSpQS0', 'retweet_count': 0, 'source': 'Twitter for Android', 'coordinates': None}\n",
            "{'username': 'Seattle Mom', 'userid': 1449206198159306753, 'profile_location': 'Seattle, WA', 'created_at': '2021-10-16 02:51:09', 'text': '@MaskBreathable1 @ArneChristensen Nope, science and data left in the past.', 'retweet_count': 0, 'source': 'Twitter for iPhone', 'coordinates': None}\n",
            "{'username': 'Jeremy Diamond ☕️', 'userid': 1267850515, 'profile_location': 'Seattle, WA', 'created_at': '2013-03-14 19:46:39', 'text': '@ryxcommar We love the data science tea', 'retweet_count': 0, 'source': 'Twitter for iPhone', 'coordinates': None}\n",
            "{'username': '2nd Watch', 'userid': 1347232070, 'profile_location': 'Seattle, WA', 'created_at': '2013-04-12 16:34:41', 'text': 'Our latest blog identifies why 87% of data science projects fail to yield results beyond the initial stage of produ… https://t.co/2YCgfOY1mb', 'retweet_count': 0, 'source': 'Pardot', 'coordinates': None}\n",
            "{'username': 'Creativity is a quiet mind and disciplined eye.🥑', 'userid': 29597605, 'profile_location': 'Seattle, WA', 'created_at': '2009-04-08 01:03:13', 'text': '@ThanksCancer I tend to believe doctors/scientists who speak out risking their licenses in most situations. Threate… https://t.co/mAspBXmAwW', 'retweet_count': 1, 'source': 'Twitter Web App', 'coordinates': None}\n",
            "{'username': 'Koverse, Inc., An SAIC Company', 'userid': 299965657, 'profile_location': 'Seattle, WA', 'created_at': '2011-05-16 23:59:08', 'text': '@SAICinc and Koverse have the experts and solutions to elevate your data and empower the people and resources you h… https://t.co/pzaalOXxMw', 'retweet_count': 0, 'source': 'Hootsuite Inc.', 'coordinates': None}\n",
            "{'username': 'ITHS', 'userid': 602871835, 'profile_location': 'Seattle, Washington', 'created_at': '2012-06-08 16:04:44', 'text': \"The UW Medical Data Science Symposium is a little over a month away - are you coming? We're bringing together those… https://t.co/zgJK0AO2zy\", 'retweet_count': 0, 'source': 'Buffer', 'coordinates': None}\n",
            "{'username': 'Gregory Knight', 'userid': 34127769, 'profile_location': 'By the sea', 'created_at': '2009-04-22 01:25:56', 'text': '@jplatt96 @TaylorLee1990 @tedcruz Trust medical science not propaganda put out to suit someone’s agenda. I’ll chang… https://t.co/Mo2b8EbjTw', 'retweet_count': 0, 'source': 'Twitter for iPhone', 'coordinates': None}\n",
            "{'username': 'PhilAnalytics', 'userid': 2961278952, 'profile_location': 'Seattle, WA', 'created_at': '2015-01-06 20:07:16', 'text': \"#DailyDataScience: 'Data Science  A Blazing new career choice' https://t.co/OZCWkH0LTM\", 'retweet_count': 0, 'source': 'PhilosophicalAnalytics', 'coordinates': None}\n",
            "{'username': 'Data Science Dojo', 'userid': 1318985240, 'profile_location': 'Seattle, WA', 'created_at': '2013-03-31 19:25:57', 'text': '💡 In this talk Jimmy will be telling the story of his journey to, then through Data Science, starting from his fina… https://t.co/EdHTuDTR9v', 'retweet_count': 0, 'source': 'HubSpot', 'coordinates': None}\n",
            "{'username': 'Data Science Dojo', 'userid': 1318985240, 'profile_location': 'Seattle, WA', 'created_at': '2013-03-31 19:25:57', 'text': \"Only a few days left to register! Don't miss out on the opportunity to gain the skills you need to succeed in the f… https://t.co/s2wm8emNiu\", 'retweet_count': 18, 'source': 'HubSpot', 'coordinates': None}\n",
            "{'username': 'Ken McGrady', 'userid': 14469925, 'profile_location': 'Seattle, WA', 'created_at': '2008-04-22 02:45:04', 'text': 'The Amazon and Microsoft layoffs are far-reaching. My heart goes out to you all. When you are ready, feel free to r… https://t.co/5tNSNk8XhH', 'retweet_count': 2, 'source': 'Twitter Web App', 'coordinates': None}\n",
            "{'username': 'Prefigure Technologies', 'userid': 1425195757984911362, 'profile_location': 'Seattle, Washington, USA', 'created_at': '2021-08-10 20:42:15', 'text': '#Datascientists typically have a strong background in mathematics and computer science, and they are able to use th… https://t.co/BBDAt5sU1R', 'retweet_count': 0, 'source': 'Buffer', 'coordinates': None}\n",
            "{'username': '2nd Watch', 'userid': 1347232070, 'profile_location': 'Seattle, WA', 'created_at': '2013-04-12 16:34:41', 'text': '87% of #datascience projects never make it beyond the initial vision into production. After investing all that time… https://t.co/3qXF5k15Cr', 'retweet_count': 0, 'source': 'Pardot', 'coordinates': None}\n",
            "{'username': 'Data Science Dojo', 'userid': 1318985240, 'profile_location': 'Seattle, WA', 'created_at': '2013-03-31 19:25:57', 'text': '👁️ Let’s have a look at the main steps a company should take to get ready for data science: https://t.co/aL08Scluvo\\n\\n#DataScience #AI #ML', 'retweet_count': 0, 'source': 'HubSpot', 'coordinates': None}\n",
            "{'username': '2nd Watch', 'userid': 1347232070, 'profile_location': 'Seattle, WA', 'created_at': '2013-04-12 16:34:41', 'text': 'Our latest blog identifies why 87% of data science projects fail to yield results beyond the initial stage of produ… https://t.co/9Q7ZSDDBji', 'retweet_count': 0, 'source': 'Pardot', 'coordinates': None}\n",
            "{'username': 'The Seattle Times', 'userid': 14352556, 'profile_location': 'Seattle, WA', 'created_at': '2008-04-10 16:15:09', 'text': \"New ice core data shows Greenland is the warmest it's been in more than 1,000 years. https://t.co/AaBLy2PBSk\", 'retweet_count': 5, 'source': 'Echobox', 'coordinates': None}\n",
            "{'username': 'Data Science Dojo', 'userid': 1318985240, 'profile_location': 'Seattle, WA', 'created_at': '2013-03-31 19:25:57', 'text': 'Hello all, for the webinar recordings &amp; queries, professional networking, and data science resources, join us here… https://t.co/CVBynViaZ8', 'retweet_count': 0, 'source': 'Twitter Web App', 'coordinates': None}\n",
            "{'username': 'Data Science Dojo', 'userid': 1318985240, 'profile_location': 'Seattle, WA', 'created_at': '2013-03-31 19:25:57', 'text': 'Make sure to follow us on Instagram for data science sliders, infographics, memes, and short videos: https://t.co/KzPNpMTbMA', 'retweet_count': 1, 'source': 'Twitter Web App', 'coordinates': None}\n",
            "{'username': 'Data Science Dojo', 'userid': 1318985240, 'profile_location': 'Seattle, WA', 'created_at': '2013-03-31 19:25:57', 'text': \"subscribe to Data Science Dojo's YouTube channel for future webinars and free tutorials &amp; crash courses: https://t.co/9t53Xo8f0Z\", 'retweet_count': 0, 'source': 'Twitter Web App', 'coordinates': None}\n",
            "{'username': 'Data Science Dojo', 'userid': 1318985240, 'profile_location': 'Seattle, WA', 'created_at': '2013-03-31 19:25:57', 'text': 'Stay tuned with our future webinars, blogs, infographics, and trending data science topics by subscribing to our we… https://t.co/BW1Mpjd1vc', 'retweet_count': 0, 'source': 'Twitter Web App', 'coordinates': None}\n",
            "{'username': 'Data Science Dojo', 'userid': 1318985240, 'profile_location': 'Seattle, WA', 'created_at': '2013-03-31 19:25:57', 'text': \"Don't forget to follow us on Instagram for data science sliders, infographics, memes, and short videos: https://t.co/KzPNpMTbMA\", 'retweet_count': 0, 'source': 'Twitter Web App', 'coordinates': None}\n",
            "{'username': 'Data Science Dojo', 'userid': 1318985240, 'profile_location': 'Seattle, WA', 'created_at': '2013-03-31 19:25:57', 'text': 'for the webinar recordings &amp; queries, professional networking, and data science resources, join us here on LinkedIn: https://t.co/cNIyqvGSxv', 'retweet_count': 0, 'source': 'Twitter Web App', 'coordinates': None}\n",
            "{'username': 'Data Science Dojo', 'userid': 1318985240, 'profile_location': 'Seattle, WA', 'created_at': '2013-03-31 19:25:57', 'text': \"Hello all, subscribe to Data Science Dojo's YouTube channel for future webinars and free tutorials &amp; crash courses: https://t.co/9t53Xo8f0Z\", 'retweet_count': 0, 'source': 'Twitter Web App', 'coordinates': None}\n",
            "{'username': 'Data Science Dojo', 'userid': 1318985240, 'profile_location': 'Seattle, WA', 'created_at': '2013-03-31 19:25:57', 'text': 'For the webinar recordings &amp; queries, professional networking, and data science resources, join us here on LinkedIn: https://t.co/cNIyqvGSxv', 'retweet_count': 0, 'source': 'Twitter Web App', 'coordinates': None}\n",
            "{'username': 'Data Science Dojo', 'userid': 1318985240, 'profile_location': 'Seattle, WA', 'created_at': '2013-03-31 19:25:57', 'text': 'Follow us on Instagram for data science sliders, infographics, memes, and short videos: https://t.co/KzPNpMTbMA', 'retweet_count': 1, 'source': 'Twitter Web App', 'coordinates': None}\n",
            "{'username': 'Data Science Dojo', 'userid': 1318985240, 'profile_location': 'Seattle, WA', 'created_at': '2013-03-31 19:25:57', 'text': \"Thank you everyone for joining our webinar today. If you're enjoying the session, today make sure to stay tuned wit… https://t.co/2aPXGXVzBd\", 'retweet_count': 0, 'source': 'Twitter Web App', 'coordinates': None}\n",
            "{'username': 'UW eScience Institute', 'userid': 20826738, 'profile_location': 'University of Washington', 'created_at': '2009-02-14 02:35:57', 'text': 'Join us tomorrow at 4:30 p.m. for our weekly UW Data Science Seminar. Orson Xu, a PhD candidate at the UW’s Informa… https://t.co/L62UiJhn6R', 'retweet_count': 0, 'source': 'Twitter Web App', 'coordinates': None}\n",
            "{'username': 'Coral.IO', 'userid': 1586725723594977281, 'profile_location': 'Seattle', 'created_at': '2022-10-30 14:25:13', 'text': \"Working on a long piece on the current state of Carbon Offsets, and what it'll look like to stand up a marketplace… https://t.co/9aGC5CoiaF\", 'retweet_count': 0, 'source': 'Twitter Web App', 'coordinates': None}\n",
            "{'username': 'PhilAnalytics', 'userid': 2961278952, 'profile_location': 'Seattle, WA', 'created_at': '2015-01-06 20:07:16', 'text': \"#DailyDataScience: 'Data science needs maths  stats  coding skills'\", 'retweet_count': 0, 'source': 'PhilosophicalAnalytics', 'coordinates': None}\n",
            "{'username': 'Data Science Dojo', 'userid': 1318985240, 'profile_location': 'Seattle, WA', 'created_at': '2013-03-31 19:25:57', 'text': '💡 5 Python projects for data science portfolio: https://t.co/sTiVnE1b6I\\n\\n#DataScience #Portfolio #Python', 'retweet_count': 11, 'source': 'Twitter Web App', 'coordinates': None}\n",
            "{'username': 'Data Science Dojo', 'userid': 1318985240, 'profile_location': 'Seattle, WA', 'created_at': '2013-03-31 19:25:57', 'text': '✔️ Data Science Dojo is offering SnowSQL for FREE on Azure Marketplace packaged with pre-configured CLI for data ma… https://t.co/L01K9cE4e6', 'retweet_count': 1, 'source': 'HubSpot', 'coordinates': None}\n",
            "{'username': 'Bob E. Hayes', 'userid': 20748873, 'profile_location': 'Seattle, WA', 'created_at': '2009-02-13 04:55:04', 'text': '15 #DataScience Tools for Beginners (2023) \\n\\nhttps://t.co/37e3tH860B\\n\\n#analytics #programming', 'retweet_count': 1, 'source': 'Buffer', 'coordinates': None}\n",
            "{'username': 'Jenny Simon', 'userid': 861755090, 'profile_location': 'Seattle, WA', 'created_at': '2012-10-04 17:30:10', 'text': '@InfluenceFreedm India is battling a black fungus they see in immune deficiency as well. Posted that a few days ago… https://t.co/uK1XHw5KD0', 'retweet_count': 0, 'source': 'Twitter for Android', 'coordinates': None}\n",
            "{'username': 'Shiva Chandrashekher', 'userid': 112785104, 'profile_location': 'Seattle, WA', 'created_at': '2010-02-09 18:11:10', 'text': '@amazonholder1 Respectfully, fsd is a choice customers opt into. To build a training dataset at massive scale (road… https://t.co/Mp089SNZ9p', 'retweet_count': 0, 'source': 'Twitter for iPad', 'coordinates': None}\n",
            "{'username': 'Data Science Dojo', 'userid': 1318985240, 'profile_location': 'Seattle, WA', 'created_at': '2013-03-31 19:25:57', 'text': '🔥 Get started with data science now, we have 100+ tutorials &amp; crash courses that can guide you your way. Start lear… https://t.co/fX4A1ffUwv', 'retweet_count': 8, 'source': 'HubSpot', 'coordinates': None}\n",
            "{'username': 'Sally James', 'userid': 20122754, 'profile_location': 'Seattle', 'created_at': '2009-02-05 05:47:28', 'text': '@sarah_cruser @Colin_Hung Part of health literacy/science literacy is understanding why there must be nuance, and s… https://t.co/kJ5YePrlMS', 'retweet_count': 2, 'source': 'Twitter Web App', 'coordinates': None}\n",
            "{'username': 'Data Science Dojo', 'userid': 1318985240, 'profile_location': 'Seattle, WA', 'created_at': '2013-03-31 19:25:57', 'text': 'We’re bringing back our 5-day in-person data science bootcamp. Join us this March in Seattle to get hands-on data s… https://t.co/HCTNJDFhEi', 'retweet_count': 0, 'source': 'HubSpot', 'coordinates': None}\n",
            "{'username': 'Industrial Software Solutions', 'userid': 937727174768865280, 'profile_location': 'Bothell, WA', 'created_at': '2017-12-04 16:55:55', 'text': \"Industrial data scientists don't need to struggle to access #data &amp; work. Learn how AVEVA #datamanagement solutions… https://t.co/OOUXvQV88g\", 'retweet_count': 0, 'source': 'Oktopost', 'coordinates': None}\n",
            "{'username': 'EC', 'userid': 1266364076, 'profile_location': 'seattle, wa', 'created_at': '2013-03-14 06:35:22', 'text': '@akrook @GovInslee I love science direct. Good call!  I presumed the site I used pulled data from WSP. They also ha… https://t.co/ssLLaD1lN6', 'retweet_count': 0, 'source': 'Twitter for iPhone', 'coordinates': None}\n",
            "{'username': 'UW eScience Institute', 'userid': 20826738, 'profile_location': 'University of Washington', 'created_at': '2009-02-14 02:35:57', 'text': 'Apply to be a Student Fellow in our Data Science for Social Good program! Spend 10 weeks working on multi-disciplin… https://t.co/5rhIRjO2PK', 'retweet_count': 10, 'source': 'Twitter Web App', 'coordinates': None}\n",
            "{'username': 'Tom Carpenter', 'userid': 452355286, 'profile_location': 'Seattle, WA', 'created_at': '2012-01-01 18:59:52', 'text': \"People are asking what happened. In short: I ran across some complex notation in an 'intro to data science / ML' co… https://t.co/cHebVQAALn\", 'retweet_count': 2, 'source': 'Twitter Web App', 'coordinates': None}\n",
            "{'username': 'Creativity is a quiet mind and disciplined eye.🥑', 'userid': 29597605, 'profile_location': 'Seattle, WA', 'created_at': '2009-04-08 01:03:13', 'text': 'Pro efficacious proven scientific research that has shown real benefits for people. Not maniupulated science and da… https://t.co/eyS4UikIbq', 'retweet_count': 0, 'source': 'Twitter Web App', 'coordinates': None}\n",
            "{'username': 'Tom Carpenter', 'userid': 452355286, 'profile_location': 'Seattle, WA', 'created_at': '2012-01-01 18:59:52', 'text': 'In the past 24 hours, I have been called unskilled, less educated than a HS student, and held up as the example of… https://t.co/5pKPgLuqOD', 'retweet_count': 3, 'source': 'Twitter for iPhone', 'coordinates': None}\n",
            "{'username': 'Data Science Dojo', 'userid': 1318985240, 'profile_location': 'Seattle, WA', 'created_at': '2013-03-31 19:25:57', 'text': '7 Libraries For #DataScience.\\nhttps://t.co/rzOVY3hAb5', 'retweet_count': 1, 'source': 'HubSpot', 'coordinates': None}\n",
            "{'username': 'Brian Fleming', 'userid': 23176036, 'profile_location': 'Bellevue, WA', 'created_at': '2009-03-07 07:44:51', 'text': '@DStephensNFL @Jim_Pembroke @DrAseemMalhotra @TracyBethHoeg Because we (at least I) have seen portions of our famil… https://t.co/KIPtYBsc9q', 'retweet_count': 0, 'source': 'TweetDeck', 'coordinates': None}\n",
            "{'username': 'Tom Carpenter', 'userid': 452355286, 'profile_location': 'Seattle, WA', 'created_at': '2012-01-01 18:59:52', 'text': '@SPVLABS Nope! It’s a pedagogy issue. This was from an intro to data science course for applied practitioners. This… https://t.co/5xVMeX0blv', 'retweet_count': 0, 'source': 'Twitter for iPhone', 'coordinates': None}\n",
            "{'username': 'Norman Oro (he/him/his)', 'userid': 312087343, 'profile_location': 'Seattle, WA', 'created_at': '2011-06-06 15:23:20', 'text': \"Have I been idle during my job search?\\nNo. I've bolstered my knowledge as I've sought work in financial analysis. F… https://t.co/JJLX9RAk5Y\", 'retweet_count': 2, 'source': 'Twitter Web App', 'coordinates': None}\n",
            "{'username': 'Bob E. Hayes', 'userid': 20748873, 'profile_location': 'Seattle, WA', 'created_at': '2009-02-13 04:55:04', 'text': 'The Importance of Experiment Design in #DataScience - KDnuggets \\n\\nhttps://t.co/sXquRP519T', 'retweet_count': 1, 'source': 'Buffer', 'coordinates': None}\n",
            "{'username': 'Luke Funk', 'userid': 1039917680344662016, 'profile_location': 'Seattle, WA', 'created_at': '2018-09-12 16:44:30', 'text': 'Publication and data access restrictions? Inconsistent, segmented, and unreliable datasets? These problems require… https://t.co/SLFDwnXYpN', 'retweet_count': 0, 'source': 'Twitter Web App', 'coordinates': None}\n",
            "{'username': 'Data Science Dojo', 'userid': 1318985240, 'profile_location': 'Seattle, WA', 'created_at': '2013-03-31 19:25:57', 'text': '🤔 Want to make your weekends productive? We have a weekly data science newsletter for you all. Subscribe to it now:… https://t.co/jztSkssvjc', 'retweet_count': 0, 'source': 'HubSpot', 'coordinates': None}\n",
            "{'username': 'Vesper Aegis', 'userid': 1464775059034288128, 'profile_location': 'Seattle WA', 'created_at': '2021-11-28 01:56:20', 'text': '@twobitsprite42 @Xxtayce @mercury941 @olivarius8208 /2 Catastrophic predictions based on known science with a data-… https://t.co/fFWZr5yNSV', 'retweet_count': 0, 'source': 'Twitter Web App', 'coordinates': None}\n",
            "{'username': 'Tom Carpenter', 'userid': 452355286, 'profile_location': 'Seattle, WA', 'created_at': '2012-01-01 18:59:52', 'text': '@vi_aliyeva Definitely for mathematics! For data science &amp; analytics, depends on what outcome I want\\n\\nI see the rat… https://t.co/cFnxmwv05E', 'retweet_count': 0, 'source': 'Twitter for iPhone', 'coordinates': None}\n",
            "{'username': 'Infeather Labs', 'userid': 1525620122802499584, 'profile_location': 'Seattle, WA, USA', 'created_at': '2022-05-14 23:33:18', 'text': 'What is an example of an experiment?\\n\\n\"Quite often, the data scientists often jump to assume what type of machine l… https://t.co/rrVowLaQfg', 'retweet_count': 1, 'source': 'Infeather Labs', 'coordinates': None}\n",
            "{'username': 'Bend.AI', 'userid': 1468763973814087680, 'profile_location': 'Seattle, Washington, USA', 'created_at': '2021-12-09 02:06:51', 'text': \"Marketing isn't just art or science.\\n\\nIt's a little bit of both.\\n\\nData helps you create art that is more targeted, engaging, and effective.\", 'retweet_count': 0, 'source': 'Postwise', 'coordinates': None}\n",
            "{'username': 'Mariko Kageyama', 'userid': 297189117, 'profile_location': 'Seattle, WA, USA', 'created_at': '2011-05-12 02:50:23', 'text': '\"program seeks to support sustainable and networked open science activities to foster an ecosystem of inclusive acc… https://t.co/1VpmFxL6dZ', 'retweet_count': 0, 'source': 'Twitter Web App', 'coordinates': None}\n",
            "{'username': 'Phenomena', 'userid': 1328569692781490176, 'profile_location': 'Seattle ', 'created_at': '2020-11-17 05:25:17', 'text': \"Excited for today's STEM Day Camp: Dabbling with Data Science in just a couple of hours! 💻 🐢🌷 Want to join us? Sign… https://t.co/qNNAhqSZ9X\", 'retweet_count': 0, 'source': 'Loomly', 'coordinates': None}\n",
            "{'username': 'andrew smith', 'userid': 373737351, 'profile_location': 'seattle', 'created_at': '2011-09-15 03:33:28', 'text': '@science_bears @Robotbeat They can still access the data in 90% of cases. They just have justifications for doing s… https://t.co/EsQ4TGGJ1y', 'retweet_count': 0, 'source': 'Twitter Web App', 'coordinates': None}\n",
            "{'username': 'action is truth 🙃', 'userid': 17624605, 'profile_location': 'Seattle, WA', 'created_at': '2008-11-25 17:10:41', 'text': '@vonSocks @stefan66x @OBoomer77 @titoortiz @dewberg Science doesn’t take a side. DAta is data / unless Ofcourse it’… https://t.co/xrEa66mFCD', 'retweet_count': 0, 'source': 'Twitter for iPhone', 'coordinates': None}\n",
            "{'username': 'Data Science Dojo', 'userid': 1318985240, 'profile_location': 'Seattle, WA', 'created_at': '2013-03-31 19:25:57', 'text': 'Here is what Carlos, General Partner at Clement Capital has to say about our data science bootcamp.  \\n\\nLearn how yo… https://t.co/5jP28iRAnD', 'retweet_count': 2, 'source': 'HubSpot', 'coordinates': None}\n",
            "{'username': 'Data Science Dojo', 'userid': 1318985240, 'profile_location': 'Seattle, WA', 'created_at': '2013-03-31 19:25:57', 'text': '💥 An overview of data science lifecycle. What else would you add here? \\n\\n#DataScience #Lifecycle #Overview https://t.co/XwgGTGYuYZ', 'retweet_count': 94, 'source': 'HubSpot', 'coordinates': None}\n",
            "{'username': 'Seattle University', 'userid': 5255121, 'profile_location': 'Seattle, WA', 'created_at': '2007-04-19 18:29:31', 'text': 'Assistant Prof. of CS Hidy Kong was recently awarded a nearly $175,000 National Science Foundation grant for resear… https://t.co/ufP8cMvqwE', 'retweet_count': 1, 'source': 'Sprout Social', 'coordinates': None}\n",
            "{'username': 'Data Science Dojo', 'userid': 1318985240, 'profile_location': 'Seattle, WA', 'created_at': '2013-03-31 19:25:57', 'text': '👉 We have 100+ tutorials on our YouTube channel which includes short tutorials, webinars, community talks, and much… https://t.co/e1vZWP75Qk', 'retweet_count': 9, 'source': 'HubSpot', 'coordinates': None}\n",
            "{'username': 'Turbocharged 🏍🏁🏎☢', 'userid': 556119777, 'profile_location': 'Seattle, WA', 'created_at': '2012-04-17 15:04:13', 'text': '@EmilyC32684903 @JReinerMD Feel free to learn science and collect real data.', 'retweet_count': 0, 'source': 'Twitter for Android', 'coordinates': None}\n",
            "{'username': 'J Bret Edwards', 'userid': 408875161, 'profile_location': 'Seattle, WA', 'created_at': '2011-11-10 00:34:05', 'text': '@EmmaCFA1 @acrossthespread @RudyHavenstein My team at AWS had a few Data Scientists &amp; we also worked w/ HWEng that… https://t.co/eg0SPgRZJn', 'retweet_count': 0, 'source': 'Twitter for iPhone', 'coordinates': None}\n",
            "{'username': 'allthemeta', 'userid': 1454005462123220998, 'profile_location': 'Seattle, WA', 'created_at': '2021-10-29 08:41:46', 'text': '2/ Start by developing a strong understanding of computer science fundamentals, particularly data structures and al… https://t.co/gjxLBrjGH9', 'retweet_count': 0, 'source': 'Twitter Web App', 'coordinates': None}\n",
            "{'username': 'Data Science Dojo', 'userid': 1318985240, 'profile_location': 'Seattle, WA', 'created_at': '2013-03-31 19:25:57', 'text': '📜 This list outlines all the most popular choices of data science Bootcamp and helps you pick the one that fits you… https://t.co/r7xVie3UTQ', 'retweet_count': 5, 'source': 'HubSpot', 'coordinates': None}\n",
            "the crawling task is finished.\n"
          ]
        }
      ],
      "source": [
        "# Define the search term and the date_since date as variables\n",
        "search_words = \"data science\"\n",
        "# make sure there is no space between lat, long and the radius.\n",
        "location = \"\"\n",
        "date_since = \"2023-1-15\"\n",
        "# read the Twitter API document to look for other ways to customize your queries.\n",
        "# refer to https://developer.twitter.com/en/docs/twitter-api/v1/rules-and-filtering/search-operators\n",
        "# for example: you can ignore all the retweets by #wildfires -filter:retweets\n",
        "# Geolocalization: the search operator “near” isn’t available in the API, but there is a more precise way to restrict\n",
        "# your query by a given location using the geocode parameter specified with the template “latitude,longitude,radius”,\n",
        "# for example, “47.6138893,-122.3107869,10mi” (capitol hill at Seattle). When conducting geo searches, the search API will first attempt to find Tweets、\n",
        "# which have lat/long within the queried geocode, and in case of not having success, it will attempt to find Tweets created\n",
        "# by users whose profile location can be reverse geocoded into a lat/long within the queried geocode, meaning that is possible\n",
        "# to receive Tweets which do not include lat/long information.\n",
        "\n",
        "\n",
        "# Collect tweets\n",
        "# tweets = tweepy.Cursor(api.search, q=search_words, lang=\"en\", since=date_since).items(100)\n",
        "tweets = tweepy.Cursor(api.search, q=search_words, geocode=location, lang=\"en\", since=date_since).items(1000)\n",
        "\n",
        "# create an array to store the result\n",
        "result = []\n",
        "\n",
        "# Iterate and print tweets\n",
        "for tweet in tweets:\n",
        "    row = {\n",
        "        'username': tweet.author.name,\n",
        "        'userid': tweet.author.id,\n",
        "        'profile_location': tweet.author.location,\n",
        "        'created_at': str(tweet.author.created_at),\n",
        "        'text': tweet.text,\n",
        "        'retweet_count': tweet.retweet_count,\n",
        "        'source': tweet.source,\n",
        "        'coordinates': tweet.coordinates\n",
        "    }\n",
        "    result.append(row)\n",
        "    print(row)\n",
        "\n",
        "# Store the results as a pandas dataframe\n",
        "df = pd.DataFrame(result)\n",
        "\n",
        "# notify the completion of the crawling in the console.\n",
        "print(\"the crawling task is finished.\")\n"
      ]
    },
    {
      "cell_type": "code",
      "execution_count": 5,
      "id": "Zm98obJ2onCV",
      "metadata": {
        "colab": {
          "base_uri": "https://localhost:8080/"
        },
        "id": "Zm98obJ2onCV",
        "outputId": "ef43243f-c59c-4e73-ea88-ace5cc7acfa7"
      },
      "outputs": [
        {
          "name": "stdout",
          "output_type": "stream",
          "text": [
            "Mounted at /gdrive\n"
          ]
        }
      ],
      "source": [
        "# Create data on to Google Drive\n",
        "from google.colab import drive\n",
        "# Mount your Drive to the Colab VM.\n",
        "drive.mount('/gdrive')\n",
        "  \n",
        "df.to_csv(output_file, index=False)"
      ]
    },
    {
      "cell_type": "code",
      "execution_count": 6,
      "id": "GMywhiuFoobU",
      "metadata": {
        "colab": {
          "base_uri": "https://localhost:8080/",
          "height": 34
        },
        "id": "GMywhiuFoobU",
        "outputId": "6c6c5853-bc99-4b22-b92a-eb9776e4a720"
      },
      "outputs": [
        {
          "data": {
            "application/javascript": "\n    async function download(id, filename, size) {\n      if (!google.colab.kernel.accessAllowed) {\n        return;\n      }\n      const div = document.createElement('div');\n      const label = document.createElement('label');\n      label.textContent = `Downloading \"${filename}\": `;\n      div.appendChild(label);\n      const progress = document.createElement('progress');\n      progress.max = size;\n      div.appendChild(progress);\n      document.body.appendChild(div);\n\n      const buffers = [];\n      let downloaded = 0;\n\n      const channel = await google.colab.kernel.comms.open(id);\n      // Send a message to notify the kernel that we're ready.\n      channel.send({})\n\n      for await (const message of channel.messages) {\n        // Send a message to notify the kernel that we're ready.\n        channel.send({})\n        if (message.buffers) {\n          for (const buffer of message.buffers) {\n            buffers.push(buffer);\n            downloaded += buffer.byteLength;\n            progress.value = downloaded;\n          }\n        }\n      }\n      const blob = new Blob(buffers, {type: 'application/binary'});\n      const a = document.createElement('a');\n      a.href = window.URL.createObjectURL(blob);\n      a.download = filename;\n      div.appendChild(a);\n      a.click();\n      div.remove();\n    }\n  ",
            "text/plain": [
              "<IPython.core.display.Javascript object>"
            ]
          },
          "metadata": {},
          "output_type": "display_data"
        },
        {
          "data": {
            "application/javascript": "download(\"download_296b0c4f-de2f-40cb-8bf0-c3bbcbdca823\", \"twsearch-result.csv\", 18425)",
            "text/plain": [
              "<IPython.core.display.Javascript object>"
            ]
          },
          "metadata": {},
          "output_type": "display_data"
        },
        {
          "name": "stdout",
          "output_type": "stream",
          "text": [
            "the csv has been downloaded to your local computer. The program has been completed successfully.\n"
          ]
        }
      ],
      "source": [
        "# download the csv to your local computer\n",
        "from google.colab import files\n",
        "files.download(output_file)\n",
        "print(\"the csv has been downloaded to your local computer. The program has been completed successfully.\")"
      ]
    }
  ],
  "metadata": {
    "colab": {
      "provenance": []
    },
    "kernelspec": {
      "display_name": "Python 3",
      "language": "python",
      "name": "python3"
    },
    "language_info": {
      "codemirror_mode": {
        "name": "ipython",
        "version": 3
      },
      "file_extension": ".py",
      "mimetype": "text/x-python",
      "name": "python",
      "nbconvert_exporter": "python",
      "pygments_lexer": "ipython3",
      "version": "3.7.10"
    }
  },
  "nbformat": 4,
  "nbformat_minor": 5
}
